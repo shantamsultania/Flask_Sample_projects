{
  "nbformat": 4,
  "nbformat_minor": 0,
  "metadata": {
    "colab": {
      "name": "Movie Genre Flask APP",
      "provenance": []
    },
    "kernelspec": {
      "name": "python3",
      "display_name": "Python 3"
    }
  },
  "cells": [
    {
      "cell_type": "code",
      "metadata": {
        "id": "HQV_Xmy3oivg",
        "colab_type": "code",
        "colab": {}
      },
      "source": [
        "# Here we will make use of the Movie Genre analysis to make a \n",
        "# Flask app of the same \n",
        "\n",
        "# importing flask Libraries\n",
        "\n",
        "from flask import Flask,render_template,request,jsonify\n",
        "\n",
        "# to run flask app on a server we  are using nagrok\n",
        "\n",
        "from flask_ngrok import run_with_ngrok\n",
        "\n",
        "#pickle is a lib that can be used to Load,Creat .pkl files \n",
        "\n",
        "import pickle\n"
      ],
      "execution_count": 5,
      "outputs": []
    },
    {
      "cell_type": "code",
      "metadata": {
        "id": "6et1P9vgpDvV",
        "colab_type": "code",
        "colab": {
          "base_uri": "https://localhost:8080/",
          "height": 292
        },
        "outputId": "1a915e16-e7b6-49e2-e729-374bb4669d2b"
      },
      "source": [
        "# to insatll Nagrok for flask\n",
        "!pip install flask-ngrok"
      ],
      "execution_count": 3,
      "outputs": [
        {
          "output_type": "stream",
          "text": [
            "Collecting flask-ngrok\n",
            "  Downloading https://files.pythonhosted.org/packages/af/6c/f54cb686ad1129e27d125d182f90f52b32f284e6c8df58c1bae54fa1adbc/flask_ngrok-0.0.25-py3-none-any.whl\n",
            "Requirement already satisfied: requests in /usr/local/lib/python3.6/dist-packages (from flask-ngrok) (2.23.0)\n",
            "Requirement already satisfied: Flask>=0.8 in /usr/local/lib/python3.6/dist-packages (from flask-ngrok) (1.1.2)\n",
            "Requirement already satisfied: urllib3!=1.25.0,!=1.25.1,<1.26,>=1.21.1 in /usr/local/lib/python3.6/dist-packages (from requests->flask-ngrok) (1.24.3)\n",
            "Requirement already satisfied: chardet<4,>=3.0.2 in /usr/local/lib/python3.6/dist-packages (from requests->flask-ngrok) (3.0.4)\n",
            "Requirement already satisfied: certifi>=2017.4.17 in /usr/local/lib/python3.6/dist-packages (from requests->flask-ngrok) (2020.4.5.2)\n",
            "Requirement already satisfied: idna<3,>=2.5 in /usr/local/lib/python3.6/dist-packages (from requests->flask-ngrok) (2.9)\n",
            "Requirement already satisfied: Werkzeug>=0.15 in /usr/local/lib/python3.6/dist-packages (from Flask>=0.8->flask-ngrok) (1.0.1)\n",
            "Requirement already satisfied: itsdangerous>=0.24 in /usr/local/lib/python3.6/dist-packages (from Flask>=0.8->flask-ngrok) (1.1.0)\n",
            "Requirement already satisfied: Jinja2>=2.10.1 in /usr/local/lib/python3.6/dist-packages (from Flask>=0.8->flask-ngrok) (2.11.2)\n",
            "Requirement already satisfied: click>=5.1 in /usr/local/lib/python3.6/dist-packages (from Flask>=0.8->flask-ngrok) (7.1.2)\n",
            "Requirement already satisfied: MarkupSafe>=0.23 in /usr/local/lib/python3.6/dist-packages (from Jinja2>=2.10.1->Flask>=0.8->flask-ngrok) (1.1.1)\n",
            "Installing collected packages: flask-ngrok\n",
            "Successfully installed flask-ngrok-0.0.25\n"
          ],
          "name": "stdout"
        }
      ]
    },
    {
      "cell_type": "code",
      "metadata": {
        "id": "oyqOZN1ApDzl",
        "colab_type": "code",
        "colab": {}
      },
      "source": [
        "\n",
        "# Load the Multinomial Naive Bayes model and CountVectorizer object from disk\n",
        "filename = '/content/drive/My Drive/data sets /Movies/movie-genre-mnb-model.pkl'\n",
        "classifier = pickle.load(open(filename, 'rb'))\n",
        "cv = pickle.load(open('/content/drive/My Drive/data sets /Movies/cv-transform.pkl','rb'))\n",
        "\n"
      ],
      "execution_count": 7,
      "outputs": []
    },
    {
      "cell_type": "code",
      "metadata": {
        "id": "JXD1UrI3pD2o",
        "colab_type": "code",
        "colab": {
          "base_uri": "https://localhost:8080/",
          "height": 289
        },
        "outputId": "87d64790-393e-4eca-8742-e5cc88c67b94"
      },
      "source": [
        "app=Flask(__name__,template_folder='/content/drive/My Drive/data sets /Movies/templates',static_folder = \"/content/drive/My Drive/data sets /Movies/static\")\n",
        "\n",
        "run_with_ngrok(app)\n",
        "@app.route('/')\n",
        "def home():\n",
        "\treturn render_template('movie.html')\n",
        "\n",
        "@app.route('/predict',methods=['POST'])\n",
        "def predict():\n",
        "    if request.method == 'POST':\n",
        "    \tmessage = request.form['message']\n",
        "    \tdata = [message]\n",
        "    \tvect = cv.transform(data).toarray()\n",
        "    \tmy_prediction = classifier.predict(vect)\n",
        "    \treturn render_template('result.html', prediction=my_prediction)\n",
        "\n",
        "if __name__ == '__main__':\n",
        "\tapp.run()"
      ],
      "execution_count": null,
      "outputs": [
        {
          "output_type": "stream",
          "text": [
            " * Serving Flask app \"__main__\" (lazy loading)\n",
            " * Environment: production\n",
            "\u001b[31m   WARNING: This is a development server. Do not use it in a production deployment.\u001b[0m\n",
            "\u001b[2m   Use a production WSGI server instead.\u001b[0m\n",
            " * Debug mode: off\n"
          ],
          "name": "stdout"
        },
        {
          "output_type": "stream",
          "text": [
            " * Running on http://127.0.0.1:5000/ (Press CTRL+C to quit)\n"
          ],
          "name": "stderr"
        },
        {
          "output_type": "stream",
          "text": [
            " * Running on http://7c963dccd519.ngrok.io\n",
            " * Traffic stats available on http://127.0.0.1:4040\n"
          ],
          "name": "stdout"
        },
        {
          "output_type": "stream",
          "text": [
            "127.0.0.1 - - [24/Jun/2020 14:11:11] \"\u001b[37mGET / HTTP/1.1\u001b[0m\" 200 -\n",
            "127.0.0.1 - - [24/Jun/2020 14:11:13] \"\u001b[37mGET /static/styles.css HTTP/1.1\u001b[0m\" 200 -\n",
            "127.0.0.1 - - [24/Jun/2020 14:11:16] \"\u001b[37mGET /static/movie-favicon.ico HTTP/1.1\u001b[0m\" 200 -\n",
            "127.0.0.1 - - [24/Jun/2020 14:12:13] \"\u001b[37mPOST /predict HTTP/1.1\u001b[0m\" 200 -\n",
            "127.0.0.1 - - [24/Jun/2020 14:12:16] \"\u001b[33mGET /static/spam-favicon.ico HTTP/1.1\u001b[0m\" 404 -\n",
            "127.0.0.1 - - [24/Jun/2020 14:12:33] \"\u001b[37mGET / HTTP/1.1\u001b[0m\" 200 -\n",
            "127.0.0.1 - - [24/Jun/2020 14:12:38] \"\u001b[37mPOST /predict HTTP/1.1\u001b[0m\" 200 -\n",
            "127.0.0.1 - - [24/Jun/2020 14:12:50] \"\u001b[37mGET / HTTP/1.1\u001b[0m\" 200 -\n"
          ],
          "name": "stderr"
        }
      ]
    }
  ]
}
