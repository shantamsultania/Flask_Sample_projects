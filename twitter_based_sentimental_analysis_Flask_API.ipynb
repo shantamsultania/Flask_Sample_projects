{
  "nbformat": 4,
  "nbformat_minor": 0,
  "metadata": {
    "colab": {
      "name": "twitter_based_sentimental_analysis Flask API",
      "provenance": [],
      "collapsed_sections": []
    },
    "kernelspec": {
      "name": "python3",
      "display_name": "Python 3"
    }
  },
  "cells": [
    {
      "cell_type": "code",
      "metadata": {
        "id": "LtS_Kk9vYoPR",
        "colab_type": "code",
        "colab": {}
      },
      "source": [
        "# here we will make use of the twitter based sentimental analysis to make a \n",
        "# flask app of the of the project\n",
        "\n",
        "# importing flask Libraries\n",
        "\n",
        "from flask import Flask,render_template,request,jsonify\n",
        "\n",
        "# to run flask app on a server we  are using nagrok\n",
        "\n",
        "from flask_ngrok import run_with_ngrok\n",
        "\n",
        "# tweepy is a lib that can be used to connect to twitter api \n",
        "import tweepy \n",
        "# helps us to make sentimental analysis on the given data on bases of text \n",
        "from textblob import TextBlob\n"
      ],
      "execution_count": 4,
      "outputs": []
    },
    {
      "cell_type": "code",
      "metadata": {
        "id": "m-OlIOPjfcKA",
        "colab_type": "code",
        "colab": {
          "base_uri": "https://localhost:8080/",
          "height": 292
        },
        "outputId": "3bef7a4a-f754-42d7-fd1f-29817acf2f17"
      },
      "source": [
        "# to insatll Nagrok for flask\n",
        "!pip install flask-ngrok"
      ],
      "execution_count": 3,
      "outputs": [
        {
          "output_type": "stream",
          "text": [
            "Collecting flask-ngrok\n",
            "  Downloading https://files.pythonhosted.org/packages/af/6c/f54cb686ad1129e27d125d182f90f52b32f284e6c8df58c1bae54fa1adbc/flask_ngrok-0.0.25-py3-none-any.whl\n",
            "Requirement already satisfied: Flask>=0.8 in /usr/local/lib/python3.6/dist-packages (from flask-ngrok) (1.1.2)\n",
            "Requirement already satisfied: requests in /usr/local/lib/python3.6/dist-packages (from flask-ngrok) (2.23.0)\n",
            "Requirement already satisfied: click>=5.1 in /usr/local/lib/python3.6/dist-packages (from Flask>=0.8->flask-ngrok) (7.1.2)\n",
            "Requirement already satisfied: Werkzeug>=0.15 in /usr/local/lib/python3.6/dist-packages (from Flask>=0.8->flask-ngrok) (1.0.1)\n",
            "Requirement already satisfied: itsdangerous>=0.24 in /usr/local/lib/python3.6/dist-packages (from Flask>=0.8->flask-ngrok) (1.1.0)\n",
            "Requirement already satisfied: Jinja2>=2.10.1 in /usr/local/lib/python3.6/dist-packages (from Flask>=0.8->flask-ngrok) (2.11.2)\n",
            "Requirement already satisfied: urllib3!=1.25.0,!=1.25.1,<1.26,>=1.21.1 in /usr/local/lib/python3.6/dist-packages (from requests->flask-ngrok) (1.24.3)\n",
            "Requirement already satisfied: certifi>=2017.4.17 in /usr/local/lib/python3.6/dist-packages (from requests->flask-ngrok) (2020.4.5.2)\n",
            "Requirement already satisfied: idna<3,>=2.5 in /usr/local/lib/python3.6/dist-packages (from requests->flask-ngrok) (2.9)\n",
            "Requirement already satisfied: chardet<4,>=3.0.2 in /usr/local/lib/python3.6/dist-packages (from requests->flask-ngrok) (3.0.4)\n",
            "Requirement already satisfied: MarkupSafe>=0.23 in /usr/local/lib/python3.6/dist-packages (from Jinja2>=2.10.1->Flask>=0.8->flask-ngrok) (1.1.1)\n",
            "Installing collected packages: flask-ngrok\n",
            "Successfully installed flask-ngrok-0.0.25\n"
          ],
          "name": "stdout"
        }
      ]
    },
    {
      "cell_type": "code",
      "metadata": {
        "id": "W_6f0xlofu2L",
        "colab_type": "code",
        "colab": {}
      },
      "source": [
        "# getting the data for Flask app "
      ],
      "execution_count": null,
      "outputs": []
    },
    {
      "cell_type": "code",
      "metadata": {
        "id": "wk8l2ao6fv1K",
        "colab_type": "code",
        "colab": {
          "base_uri": "https://localhost:8080/",
          "height": 122
        },
        "outputId": "8e5973dc-5558-4dd0-9660-6745a57f3d3a"
      },
      "source": [
        "# mounting the drive\n",
        "from google.colab import drive\n",
        "drive.mount('/content/drive')"
      ],
      "execution_count": 5,
      "outputs": [
        {
          "output_type": "stream",
          "text": [
            "Go to this URL in a browser: https://accounts.google.com/o/oauth2/auth?client_id=947318989803-6bn6qk8qdgf4n4g3pfee6491hc0brc4i.apps.googleusercontent.com&redirect_uri=urn%3aietf%3awg%3aoauth%3a2.0%3aoob&response_type=code&scope=email%20https%3a%2f%2fwww.googleapis.com%2fauth%2fdocs.test%20https%3a%2f%2fwww.googleapis.com%2fauth%2fdrive%20https%3a%2f%2fwww.googleapis.com%2fauth%2fdrive.photos.readonly%20https%3a%2f%2fwww.googleapis.com%2fauth%2fpeopleapi.readonly\n",
            "\n",
            "Enter your authorization code:\n",
            "··········\n",
            "Mounted at /content/drive\n"
          ],
          "name": "stdout"
        }
      ]
    },
    {
      "cell_type": "code",
      "metadata": {
        "id": "2yGce-dkZAYs",
        "colab_type": "code",
        "colab": {}
      },
      "source": [
        "# credencials for twitter APPs \n",
        "\n",
        "c_key = 'seXN91mkcqQIWNsJpxFEcrWiz'\n",
        "c_sec = '5QMh87FhBoMSKhz2dbfrgGhKbtvRdBUSvEfDUKE8Nref3y0frt'\n",
        "a_key = '1160067716557885441-63aTjQBh89JthS3430muBWrqjWbpUV'\n",
        "a_sec = 'UgFtE2dkB7p7GZQnQSQQsU2CVJoy6f3SA1GHAWAsOidIC'\n"
      ],
      "execution_count": 6,
      "outputs": []
    },
    {
      "cell_type": "code",
      "metadata": {
        "id": "dk5Rw02dZLTB",
        "colab_type": "code",
        "colab": {}
      },
      "source": [
        "# authantication of users \n",
        "\n",
        "auth = tweepy.OAuthHandler(c_key,c_sec)\n",
        "auth.set_access_token(a_key,a_sec)\n",
        "api = tweepy.API(auth)\n"
      ],
      "execution_count": 7,
      "outputs": []
    },
    {
      "cell_type": "code",
      "metadata": {
        "id": "pmZIzy3UZLXJ",
        "colab_type": "code",
        "colab": {
          "base_uri": "https://localhost:8080/",
          "height": 34
        },
        "outputId": "c30fa138-ad36-43da-86d1-096704497a01"
      },
      "source": [
        "# displaying user name\n",
        "\n",
        "user = api.me()\n",
        "print(user.name)\n"
      ],
      "execution_count": 8,
      "outputs": [
        {
          "output_type": "stream",
          "text": [
            "shantam sultania\n"
          ],
          "name": "stdout"
        }
      ]
    },
    {
      "cell_type": "code",
      "metadata": {
        "id": "Klnq8LKZZLZK",
        "colab_type": "code",
        "colab": {
          "base_uri": "https://localhost:8080/",
          "height": 428
        },
        "outputId": "6698cdd8-6cd5-4714-9d48-5552135647d1"
      },
      "source": [
        "# geting the tweets form twitter using The Twitter aap and tweepy\n",
        "# Demo of getting text from twitter\n",
        "# for reference you can go to twitter based text sentimental analysis \n",
        "\n",
        "tweet_live = api.search(\"blacklife\")\n",
        "for tweet in tweet_live:\n",
        "    tweet_is = tweet.text\n",
        "    print(tweet_is)\n"
      ],
      "execution_count": 10,
      "outputs": [
        {
          "output_type": "stream",
          "text": [
            "alw almost all lawyers are members of an 'clan of fraud'es!\n",
            "\n",
            "phunk them! almost all of them 'lawyers!\n",
            "\n",
            "#blackLife! #blackism?\n",
            "RT @Robinson4kc: Economic oppression is violence. In Kansas City we protect majority White school districts from corporate tax abatements.…\n",
            "RT @AnTyongf: @blacklife_liken @pannatic Fact! There is only victim in this case: Taeyong. What they did to him for years can be considered…\n",
            "すいませんでしたぁーwwww https://t.co/4znZsP9kPI\n",
            "RT @AnTyongf: @blacklife_liken @pannatic Fact! There is only victim in this case: Taeyong. What they did to him for years can be considered…\n",
            "RT @Robinson4kc: Economic oppression is violence. In Kansas City we protect majority White school districts from corporate tax abatements.…\n",
            "RT @Robinson4kc: Economic oppression is violence. In Kansas City we protect majority White school districts from corporate tax abatements.…\n",
            "https://t.co/gfZHBamwD6 We 我々六山七八九十十一ReAl大御所Nice三👑ヤクザ👓💜親子TeAmOG姐さんLilMe¥oung✨🇯🇵🌏🌎🇯🇲🇹🇹🖤🤎💛選We見る$oIH🤮ateWhit🇬🇧BornToBr… https://t.co/x7jlMV5Lnp\n",
            "https://t.co/gfZHBamwD6 We 我々六山七八九十十一ReAl大御所Nice三👑ヤクザ👓💜親子TeAmOG姐さんLilMe¥oung✨🇯🇵🌏🌎🇯🇲🇹🇹🖤🤎💛選We見る$oIH🤮ateWhit🇬🇧BornToBr… https://t.co/WqcZgyeme1\n",
            "RT @AnTyongf: @blacklife_liken @pannatic Fact! There is only victim in this case: Taeyong. What they did to him for years can be considered…\n",
            "@SpecialAssign pls can you investigate shoprite Soweto shops esp. Jabulani mall shoprite, as they have covid19 case… https://t.co/dlfrRwHlwi\n",
            "#BlackLivesMatter \"there would be no America without #BlackLife watch the webcast Live right now! @LouisFarrakhan… https://t.co/tZUBvsioxf\n",
            "RT @AnTyongf: @blacklife_liken @pannatic Fact! There is only victim in this case: Taeyong. What they did to him for years can be considered…\n",
            "Everyday we wax stronger!\n",
            "\n",
            "#blacklife #hoodie #strong #ceo #music #star #talent #god #blessed #beyond #measure https://t.co/GfkNpCLVyR\n",
            "Let’s not forget the journey!\n",
            "\n",
            "#blacklife #hoodie #strong #ceo #music #star #talent #god #blessed #beyond #measure… https://t.co/uQ97NsX871\n"
          ],
          "name": "stdout"
        }
      ]
    },
    {
      "cell_type": "code",
      "metadata": {
        "id": "Mjgkw96JZLb4",
        "colab_type": "code",
        "colab": {
          "base_uri": "https://localhost:8080/",
          "height": 272
        },
        "outputId": "2d222e20-1483-4f12-8ea9-8e2664e741ee"
      },
      "source": [
        "# Making prediction on the tweet provided by twitter related to this topic\n",
        "\n",
        "# lets choose a random topic i choose this as it was in news alot\n",
        "\n",
        "# we were abe to get the \n",
        "\n",
        "tweet_live = api.search(\"blacklife\")\n",
        "for tweet in tweet_live:\n",
        "    tweet_is = tweet.text\n",
        "    analysis = TextBlob(tweet_is)\n",
        "    print(analysis.sentiment)"
      ],
      "execution_count": 11,
      "outputs": [
        {
          "output_type": "stream",
          "text": [
            "Sentiment(polarity=0.0, subjectivity=0.0)\n",
            "Sentiment(polarity=0.06666666666666667, subjectivity=0.06666666666666667)\n",
            "Sentiment(polarity=-0.037500000000000006, subjectivity=0.525)\n",
            "Sentiment(polarity=0.0, subjectivity=0.0)\n",
            "Sentiment(polarity=-0.037500000000000006, subjectivity=0.525)\n",
            "Sentiment(polarity=0.06666666666666667, subjectivity=0.06666666666666667)\n",
            "Sentiment(polarity=0.06666666666666667, subjectivity=0.06666666666666667)\n",
            "Sentiment(polarity=0.0, subjectivity=0.0)\n",
            "Sentiment(polarity=0.0, subjectivity=0.0)\n",
            "Sentiment(polarity=-0.037500000000000006, subjectivity=0.525)\n",
            "Sentiment(polarity=0.0, subjectivity=0.0)\n",
            "Sentiment(polarity=0.24675324675324672, subjectivity=0.5178571428571428)\n",
            "Sentiment(polarity=-0.037500000000000006, subjectivity=0.525)\n",
            "Sentiment(polarity=0.09166666666666665, subjectivity=0.6666666666666666)\n",
            "Sentiment(polarity=0.4333333333333333, subjectivity=0.7333333333333333)\n"
          ],
          "name": "stdout"
        }
      ]
    },
    {
      "cell_type": "code",
      "metadata": {
        "id": "48YyqeHwZLeo",
        "colab_type": "code",
        "colab": {
          "base_uri": "https://localhost:8080/",
          "height": 428
        },
        "outputId": "6342ae96-86e9-4230-9b38-97b861d6035b"
      },
      "source": [
        "# creating Flask app \n",
        "# creating Template floder and Static folder for User Interface\n",
        "\n",
        "# NOTE:- \n",
        "# source for user interface  https://codepen.io/ \n",
        "# I have downloaded templetes and Bootstrap form there\n",
        "\n",
        "#\n",
        "app=Flask(__name__,template_folder='/content/drive/My Drive/data sets /twitter/templates',static_folder = \"/content/drive/My Drive/data sets /twitter/static\")\n",
        "\n",
        "# as the function name suggest we are running the app with nagrok \n",
        "\n",
        "run_with_ngrok(app)\n",
        "\n",
        "@app.route(\"/\")\n",
        "def index():\n",
        "    return render_template('twitterapp.html')\n",
        "\n",
        "@app.route(\"/search\",methods=[\"POST\"])\n",
        "def search():\n",
        "    search_tweet = request.form.get(\"search_query\")\n",
        "    \n",
        "    t = []\n",
        "    tweets = api.search(search_tweet, tweet_mode='extended')\n",
        "    for tweet in tweets:\n",
        "        polarity = TextBlob(tweet.full_text).sentiment.polarity\n",
        "        subjectivity = TextBlob(tweet.full_text).sentiment.subjectivity\n",
        "        t.append([tweet.full_text,polarity,subjectivity])\n",
        "        # t.append(tweet.full_text)\n",
        "\n",
        "    return jsonify({\"success\":True,\"tweets\":t})\n",
        "\n",
        "if __name__==\"__main__\":\n",
        "    app.run()\n",
        "\n"
      ],
      "execution_count": 19,
      "outputs": [
        {
          "output_type": "stream",
          "text": [
            " * Serving Flask app \"__main__\" (lazy loading)\n",
            " * Environment: production\n",
            "\u001b[31m   WARNING: This is a development server. Do not use it in a production deployment.\u001b[0m\n",
            "\u001b[2m   Use a production WSGI server instead.\u001b[0m\n",
            " * Debug mode: off\n"
          ],
          "name": "stdout"
        },
        {
          "output_type": "stream",
          "text": [
            " * Running on http://127.0.0.1:5000/ (Press CTRL+C to quit)\n"
          ],
          "name": "stderr"
        },
        {
          "output_type": "stream",
          "text": [
            " * Running on http://0055ae144fbb.ngrok.io\n",
            " * Traffic stats available on http://127.0.0.1:4040\n"
          ],
          "name": "stdout"
        },
        {
          "output_type": "stream",
          "text": [
            "127.0.0.1 - - [21/Jun/2020 20:33:14] \"\u001b[37mGET / HTTP/1.1\u001b[0m\" 200 -\n",
            "127.0.0.1 - - [21/Jun/2020 20:33:15] \"\u001b[37mGET /static/font-awesome/css/font-awesome.min.css HTTP/1.1\u001b[0m\" 200 -\n",
            "127.0.0.1 - - [21/Jun/2020 20:33:15] \"\u001b[37mGET /static/css/form-elements.css HTTP/1.1\u001b[0m\" 200 -\n",
            "127.0.0.1 - - [21/Jun/2020 20:33:15] \"\u001b[37mGET /static/bootstrap/css/bootstrap.min.css HTTP/1.1\u001b[0m\" 200 -\n",
            "127.0.0.1 - - [21/Jun/2020 20:33:15] \"\u001b[37mGET /static/bootstrap/js/bootstrap.min.js HTTP/1.1\u001b[0m\" 200 -\n",
            "127.0.0.1 - - [21/Jun/2020 20:33:16] \"\u001b[37mGET /static/css/style.css HTTP/1.1\u001b[0m\" 200 -\n",
            "127.0.0.1 - - [21/Jun/2020 20:33:16] \"\u001b[37mGET /static/js/jquery-1.11.1.min.js HTTP/1.1\u001b[0m\" 200 -\n",
            "127.0.0.1 - - [21/Jun/2020 20:33:16] \"\u001b[37mGET /static/js/jquery.backstretch.min.js HTTP/1.1\u001b[0m\" 200 -\n",
            "127.0.0.1 - - [21/Jun/2020 20:33:16] \"\u001b[37mGET /static/js/scripts.js HTTP/1.1\u001b[0m\" 200 -\n",
            "127.0.0.1 - - [21/Jun/2020 20:33:16] \"\u001b[37mGET /static/index.js HTTP/1.1\u001b[0m\" 200 -\n",
            "127.0.0.1 - - [21/Jun/2020 20:33:18] \"\u001b[37mGET /static/font-awesome/fonts/fontawesome-webfont.woff2?v=4.6.3 HTTP/1.1\u001b[0m\" 200 -\n",
            "127.0.0.1 - - [21/Jun/2020 20:33:18] \"\u001b[37mGET /static/img/backgrounds/twitter1.jpg HTTP/1.1\u001b[0m\" 200 -\n",
            "127.0.0.1 - - [21/Jun/2020 20:33:18] \"\u001b[37mGET /static/img/backgrounds/twitter.jpg HTTP/1.1\u001b[0m\" 200 -\n",
            "127.0.0.1 - - [21/Jun/2020 20:33:19] \"\u001b[33mGET /favicon.ico HTTP/1.1\u001b[0m\" 404 -\n",
            "127.0.0.1 - - [21/Jun/2020 20:33:28] \"\u001b[37mPOST /search HTTP/1.1\u001b[0m\" 200 -\n"
          ],
          "name": "stderr"
        }
      ]
    }
  ]
}
