{
  "nbformat": 4,
  "nbformat_minor": 0,
  "metadata": {
    "colab": {
      "name": "twitter based sentimental analysis",
      "provenance": [],
      "collapsed_sections": []
    },
    "kernelspec": {
      "name": "python3",
      "display_name": "Python 3"
    }
  },
  "cells": [
    {
      "cell_type": "code",
      "metadata": {
        "id": "LtS_Kk9vYoPR",
        "colab_type": "code",
        "colab": {}
      },
      "source": [
        "# tweepy is a lib that can be used to connect to twitter api \n",
        "import tweepy \n",
        "# helps us to make sentimental analysis on the given data on bases of text \n",
        "from textblob import TextBlob\n"
      ],
      "execution_count": 11,
      "outputs": []
    },
    {
      "cell_type": "code",
      "metadata": {
        "id": "2yGce-dkZAYs",
        "colab_type": "code",
        "colab": {}
      },
      "source": [
        "# credencials for twitter APPs \n",
        "\n",
        "c_key = 'seXN91mkcqQIWNsJpxFEcrWiz'\n",
        "c_sec = '5QMh87FhBoMSKhz2dbfrgGhKbtvRdBUSvEfDUKE8Nref3y0frt'\n",
        "a_key = '1160067716557885441-63aTjQBh89JthS3430muBWrqjWbpUV'\n",
        "a_sec = 'UgFtE2dkB7p7GZQnQSQQsU2CVJoy6f3SA1GHAWAsOidIC'\n"
      ],
      "execution_count": 3,
      "outputs": []
    },
    {
      "cell_type": "code",
      "metadata": {
        "id": "dk5Rw02dZLTB",
        "colab_type": "code",
        "colab": {}
      },
      "source": [
        "# authantication of users \n",
        "\n",
        "auth = tweepy.OAuthHandler(c_key,c_sec)\n",
        "auth.set_access_token(a_key,a_sec)\n",
        "api = tweepy.API(auth)\n"
      ],
      "execution_count": 6,
      "outputs": []
    },
    {
      "cell_type": "code",
      "metadata": {
        "id": "pmZIzy3UZLXJ",
        "colab_type": "code",
        "colab": {
          "base_uri": "https://localhost:8080/",
          "height": 34
        },
        "outputId": "44c18d34-e543-415e-fbf5-a921fc4a89bf"
      },
      "source": [
        "# displaying user name\n",
        "\n",
        "user = api.me()\n",
        "print(user.name)\n"
      ],
      "execution_count": 7,
      "outputs": [
        {
          "output_type": "stream",
          "text": [
            "shantam sultania\n"
          ],
          "name": "stdout"
        }
      ]
    },
    {
      "cell_type": "code",
      "metadata": {
        "id": "Klnq8LKZZLZK",
        "colab_type": "code",
        "colab": {
          "base_uri": "https://localhost:8080/",
          "height": 459
        },
        "outputId": "cc146290-2d2a-4371-dda3-ee66ebf38df7"
      },
      "source": [
        "# geting the tweets form twitter using The Twitter aap and tweepy\n",
        "# Demo of getting text from twitter\n",
        "\n",
        "tweet_live = api.search(\"google\")\n",
        "for tweet in tweet_live:\n",
        "    tweet_is = tweet.text\n",
        "    print(tweet)\n"
      ],
      "execution_count": 9,
      "outputs": [
        {
          "output_type": "stream",
          "text": [
            "The clip can be used for a #googlesearch Advertisment. The tagline being- \n",
            "Education does not come easy, but inform… https://t.co/U5hCuO1DgO\n",
            "RT @AlmondMilkHotel: Kendrick Johnson's story is one of the most disturbing miscarriages of justice I've ever heard of. It's beyond a misca…\n",
            "@Lik04ka No idea about JBL sound quality, to be honest 😁 Google Nest mini lacks bass a bit, but it's understandable (it's mini, after all).\n",
            "@B0tacus_R3X @realDonaldTrump @parler_app Yeah sure, of course, remember when Google Plus destroyed facebook?\n",
            "RT @brookentodd: Someone leaked Bolton's book in PDF Format.\n",
            "\n",
            "🤣🤣🤣 Whatever you do... don't retweet  this...\n",
            " https://t.co/zBC3IRR5Qi\n",
            "RT @1995soulmates: 🐣🐯☀️\n",
            "#JIMIN #V #TAEHYUNG #BTS #VMIN @BTS_twt \n",
            "https://t.co/BYGaPPC7JX https://t.co/XrtIAZszn5\n",
            "RT @baph0meat: reminder that if you feel ur tl is \"slowing down\" or \"going back to normal\" i.e. you don't see as many resources/donation op…\n",
            "@SquattingxBear I dont know anything about TOS so I asked Twitter and checked google lol\n",
            "Recetas rápidas para un domingo: Google voy a tener suerte. https://t.co/2bauwkZ3dc\n",
            "RT @markpalette: mark: como aumentar o tamanho do pau com biokinesis google pesquisar\n",
            "RT @TheMattCardona: I did a google search to find a pic of my dad. Here are some that I found. Happy Father’s Day! https://t.co/udDT4W45aX\n",
            "RT @NinaLin10: please take 10-15 minutes to sign all the petitions that I have linked in this doc. includes information, petitions, and fun…\n",
            "@MilesKahler That would be interesting! I don’t know if Robert Vitalis did when writing his book?\n",
            "\n",
            "https://t.co/uP5U7ROjME\n",
            "RT @brookentodd: Someone leaked Bolton's book in PDF Format.\n",
            "\n",
            "🤣🤣🤣 Whatever you do... don't retweet  this...\n",
            " https://t.co/zBC3IRR5Qi\n",
            "@bsa6060 https://t.co/uyCshecSim\n"
          ],
          "name": "stdout"
        }
      ]
    },
    {
      "cell_type": "code",
      "metadata": {
        "id": "Mjgkw96JZLb4",
        "colab_type": "code",
        "colab": {
          "base_uri": "https://localhost:8080/",
          "height": 272
        },
        "outputId": "d5164055-1d9f-4c5a-f4e0-d5670460eadd"
      },
      "source": [
        "# Making prediction on the tweet provided by twitter related to this topic\n",
        "\n",
        "# lets choose a random topic i choose this as it was in news alot\n",
        "\n",
        "# we were abe to get the \n",
        "\n",
        "tweet_live = api.search(\"blacklife\")\n",
        "for tweet in tweet_live:\n",
        "    tweet_is = tweet.text\n",
        "    analysis = TextBlob(tweet_is)\n",
        "    print(analysis.sentiment)"
      ],
      "execution_count": 14,
      "outputs": [
        {
          "output_type": "stream",
          "text": [
            "Sentiment(polarity=0.0, subjectivity=0.0)\n",
            "Sentiment(polarity=0.06666666666666667, subjectivity=0.06666666666666667)\n",
            "Sentiment(polarity=-0.037500000000000006, subjectivity=0.525)\n",
            "Sentiment(polarity=0.0, subjectivity=0.0)\n",
            "Sentiment(polarity=-0.037500000000000006, subjectivity=0.525)\n",
            "Sentiment(polarity=0.06666666666666667, subjectivity=0.06666666666666667)\n",
            "Sentiment(polarity=0.06666666666666667, subjectivity=0.06666666666666667)\n",
            "Sentiment(polarity=0.0, subjectivity=0.0)\n",
            "Sentiment(polarity=0.0, subjectivity=0.0)\n",
            "Sentiment(polarity=-0.037500000000000006, subjectivity=0.525)\n",
            "Sentiment(polarity=0.0, subjectivity=0.0)\n",
            "Sentiment(polarity=0.24675324675324672, subjectivity=0.5178571428571428)\n",
            "Sentiment(polarity=-0.037500000000000006, subjectivity=0.525)\n",
            "Sentiment(polarity=0.09166666666666665, subjectivity=0.6666666666666666)\n",
            "Sentiment(polarity=0.4333333333333333, subjectivity=0.7333333333333333)\n"
          ],
          "name": "stdout"
        }
      ]
    },
    {
      "cell_type": "code",
      "metadata": {
        "id": "48YyqeHwZLeo",
        "colab_type": "code",
        "colab": {
          "base_uri": "https://localhost:8080/",
          "height": 1000
        },
        "outputId": "10c3383a-fc3c-4d4c-895c-c474c7e69502"
      },
      "source": [
        "# if polarity is in negative then the tweet is negative\n",
        "# if in positive then its a positive tweet\n",
        "# if polarity is greater then 0 and less then 5 then tweet is neutral \n",
        "\n",
        "tweet_live = api.search(\"blacklife\")\n",
        "for tweet in tweet_live:\n",
        "    tweet_is = tweet.text\n",
        "    analysis = TextBlob(tweet_is)\n",
        "    polarity = TextBlob(tweet_is).sentiment.polarity\n",
        "    subjectivity = TextBlob(tweet_is).sentiment.subjectivity\n",
        "    print(\"polarity =\",polarity)\n",
        "    print('*'*20)\n",
        "    print(\"subjectivity =\",subjectivity)\n",
        "    print('*'*20)\n",
        "    print('*'*30)"
      ],
      "execution_count": 25,
      "outputs": [
        {
          "output_type": "stream",
          "text": [
            "polarity = 0.0\n",
            "********************\n",
            "subjectivity = 0.0\n",
            "********************\n",
            "******************************\n",
            "polarity = 0.06666666666666667\n",
            "********************\n",
            "subjectivity = 0.06666666666666667\n",
            "********************\n",
            "******************************\n",
            "polarity = -0.037500000000000006\n",
            "********************\n",
            "subjectivity = 0.525\n",
            "********************\n",
            "******************************\n",
            "polarity = 0.0\n",
            "********************\n",
            "subjectivity = 0.0\n",
            "********************\n",
            "******************************\n",
            "polarity = -0.037500000000000006\n",
            "********************\n",
            "subjectivity = 0.525\n",
            "********************\n",
            "******************************\n",
            "polarity = 0.06666666666666667\n",
            "********************\n",
            "subjectivity = 0.06666666666666667\n",
            "********************\n",
            "******************************\n",
            "polarity = 0.06666666666666667\n",
            "********************\n",
            "subjectivity = 0.06666666666666667\n",
            "********************\n",
            "******************************\n",
            "polarity = 0.0\n",
            "********************\n",
            "subjectivity = 0.0\n",
            "********************\n",
            "******************************\n",
            "polarity = 0.0\n",
            "********************\n",
            "subjectivity = 0.0\n",
            "********************\n",
            "******************************\n",
            "polarity = -0.037500000000000006\n",
            "********************\n",
            "subjectivity = 0.525\n",
            "********************\n",
            "******************************\n",
            "polarity = 0.0\n",
            "********************\n",
            "subjectivity = 0.0\n",
            "********************\n",
            "******************************\n",
            "polarity = 0.24675324675324672\n",
            "********************\n",
            "subjectivity = 0.5178571428571428\n",
            "********************\n",
            "******************************\n",
            "polarity = -0.037500000000000006\n",
            "********************\n",
            "subjectivity = 0.525\n",
            "********************\n",
            "******************************\n",
            "polarity = 0.09166666666666665\n",
            "********************\n",
            "subjectivity = 0.6666666666666666\n",
            "********************\n",
            "******************************\n",
            "polarity = 0.4333333333333333\n",
            "********************\n",
            "subjectivity = 0.7333333333333333\n",
            "********************\n",
            "******************************\n"
          ],
          "name": "stdout"
        }
      ]
    }
  ]
}