{
  "nbformat": 4,
  "nbformat_minor": 0,
  "metadata": {
    "colab": {
      "name": "Text based Analysis 1",
      "provenance": []
    },
    "kernelspec": {
      "name": "python3",
      "display_name": "Python 3"
    }
  },
  "cells": [
    {
      "cell_type": "code",
      "metadata": {
        "id": "4vi7H0-V-d_9",
        "colab_type": "code",
        "colab": {}
      },
      "source": [
        "import string\n",
        "from collections import Counter"
      ],
      "execution_count": null,
      "outputs": []
    },
    {
      "cell_type": "code",
      "metadata": {
        "id": "LVC3OCgX_1UC",
        "colab_type": "code",
        "colab": {}
      },
      "source": [
        "# reading text file\n",
        "text = open(\"/content/drive/My Drive/data sets /text/emotions.txt\", encoding=\"utf-8\").read()"
      ],
      "execution_count": null,
      "outputs": []
    },
    {
      "cell_type": "code",
      "metadata": {
        "id": "1-Dj63Qm_1aI",
        "colab_type": "code",
        "colab": {}
      },
      "source": [
        "# converting to lowercase\n",
        "lower_case = text.lower()"
      ],
      "execution_count": null,
      "outputs": []
    },
    {
      "cell_type": "code",
      "metadata": {
        "id": "IG1fJuym_1ey",
        "colab_type": "code",
        "colab": {}
      },
      "source": [
        "# Removing punctuations\n",
        "cleaned_text = lower_case.translate(str.maketrans('', '', string.punctuation))\n"
      ],
      "execution_count": null,
      "outputs": []
    },
    {
      "cell_type": "code",
      "metadata": {
        "id": "XVI9r13H_1i-",
        "colab_type": "code",
        "colab": {}
      },
      "source": [
        "\n",
        "# splitting text into words\n",
        "tokenized_words = cleaned_text.split()\n"
      ],
      "execution_count": null,
      "outputs": []
    },
    {
      "cell_type": "code",
      "metadata": {
        "id": "cv1rlG5G_1nq",
        "colab_type": "code",
        "colab": {}
      },
      "source": [
        "stop_words = [\"i\", \"me\", \"my\", \"myself\", \"we\", \"our\", \"ours\", \"ourselves\", \"you\", \"your\", \"yours\", \"yourself\",\n",
        "              \"yourselves\", \"he\", \"him\", \"his\", \"himself\", \"she\", \"her\", \"hers\", \"herself\", \"it\", \"its\", \"itself\",\n",
        "              \"they\", \"them\", \"their\", \"theirs\", \"themselves\", \"what\", \"which\", \"who\", \"whom\", \"this\", \"that\", \"these\",\n",
        "              \"those\", \"am\", \"is\", \"are\", \"was\", \"were\", \"be\", \"been\", \"being\", \"have\", \"has\", \"had\", \"having\", \"do\",\n",
        "              \"does\", \"did\", \"doing\", \"a\", \"an\", \"the\", \"and\", \"but\", \"if\", \"or\", \"because\", \"as\", \"until\", \"while\",\n",
        "              \"of\", \"at\", \"by\", \"for\", \"with\", \"about\", \"against\", \"between\", \"into\", \"through\", \"during\", \"before\",\n",
        "              \"after\", \"above\", \"below\", \"to\", \"from\", \"up\", \"down\", \"in\", \"out\", \"on\", \"off\", \"over\", \"under\", \"again\",\n",
        "              \"further\", \"then\", \"once\", \"here\", \"there\", \"when\", \"where\", \"why\", \"how\", \"all\", \"any\", \"both\", \"each\",\n",
        "              \"few\", \"more\", \"most\", \"other\", \"some\", \"such\", \"no\", \"nor\", \"not\", \"only\", \"own\", \"same\", \"so\", \"than\",\n",
        "              \"too\", \"very\", \"s\", \"t\", \"can\", \"will\", \"just\", \"don\", \"should\", \"now\"]\n"
      ],
      "execution_count": null,
      "outputs": []
    },
    {
      "cell_type": "code",
      "metadata": {
        "id": "tEPvludg_1q3",
        "colab_type": "code",
        "colab": {}
      },
      "source": [
        "# Removing stop words from the tokenized words list\n",
        "final_words = []\n",
        "for word in tokenized_words:\n",
        "    if word not in stop_words:\n",
        "        final_words.append(word)\n"
      ],
      "execution_count": null,
      "outputs": []
    },
    {
      "cell_type": "code",
      "metadata": {
        "id": "tqwa0dax_1l8",
        "colab_type": "code",
        "colab": {}
      },
      "source": [
        "emotion_list = []\n",
        "with open('/content/drive/My Drive/data sets /text/emotions.txt', 'r') as file:\n",
        "    for line in file:\n",
        "        clear_line = line.replace(\"\\n\", '').replace(\",\", '').replace(\"'\", '').strip()\n",
        "        word, emotion = clear_line.split(':')\n",
        "\n",
        "        if word in final_words:\n",
        "            emotion_list.append(emotion)\n"
      ],
      "execution_count": null,
      "outputs": []
    },
    {
      "cell_type": "code",
      "metadata": {
        "id": "7qkq0n_6_1hU",
        "colab_type": "code",
        "colab": {
          "base_uri": "https://localhost:8080/",
          "height": 71
        },
        "outputId": "dd2ef00e-cfbf-4c81-a6eb-1317aca16590"
      },
      "source": [
        "print(emotion_list)\n",
        "w = Counter(emotion_list)\n",
        "print(w)\n"
      ],
      "execution_count": null,
      "outputs": [
        {
          "output_type": "stream",
          "text": [
            "[' cheated', ' cheated', ' singled out', ' loved', ' loved', ' attracted', ' sad', ' fearful', ' attracted', ' sad', ' fearful', ' happy', ' angry', ' sad', ' happy', ' angry', ' attracted', ' bored', ' angry', ' singled out', ' esteemed', ' fearful', ' lustful', ' lustful', ' attached', ' attracted', ' independent', ' fearful', ' embarrassed', ' happy', ' attached', ' sad', ' cheated', ' surprise', ' angry', ' happy', ' happy', ' powerless', ' sad', ' angry', ' fearless', ' bored', ' fearless', ' happy', ' happy', ' safe', ' adequate', ' attached', ' powerless', ' singled out', ' fearful', ' fearless', ' belittled', ' attracted', ' hated', ' cheated', ' happy', ' sad', ' happy', ' attached', ' fearful', ' independent', ' codependent', ' cheated', ' happy', ' average', ' adequate', ' apathetic', ' adequate', ' attracted', ' adequate', ' surprise', ' attached', ' cheated', ' obsessed', ' happy', ' powerless', ' happy', ' entitled', ' fearless', ' fearful', ' attracted', ' sad', ' hated', ' angry', ' sad', ' attracted', ' fearless', ' sad', ' attracted', ' powerless', ' fearful', ' belittled', ' sad', ' sad', ' hated', ' loved', ' sad', ' alone', ' focused', ' belittled', ' demoralized', ' hated', ' sad', ' sad', ' belittled', ' powerless', ' belittled', ' angry', ' demoralized', ' demoralized', ' derailed', ' sad', ' fearful', ' derailed', ' cheated', ' sad', ' belittled', ' sad', ' anxious', ' sad', ' fearful', ' sad', ' sad', ' sad', ' anxious', ' sad', ' cheated', ' attracted', ' attracted', ' happy', ' happy', ' embarrassed', ' attached', ' attracted', ' adequate', ' attracted', ' angry', ' fearless', ' happy', ' loved', ' esteemed', ' happy', ' alone', ' entitled', ' happy', ' cheated', ' fearful', ' ecstatic', ' fearful', ' ecstatic', ' attracted', ' entitled', ' fearful', ' attracted', ' attracted', ' happy', ' sad', ' focused', ' powerless', ' hated', ' cheated', ' free', ' fearful', ' happy', ' angry', ' angry', ' sad', ' angry', ' fearless', ' happy', ' happy', ' happy', ' sad', ' sad', ' sad', ' sad', ' singled out', ' happy', ' fearless', ' sad', ' sad', ' fearful', ' happy', ' attracted', ' lustful', ' fearful', ' sad', ' happy', ' sad', ' fearful', ' hated', ' apathetic', ' entitled', ' happy', ' powerless', ' entitled', ' angry', ' attached', ' anxious', ' free', ' angry', ' lustful', ' angry', ' sad', ' attracted', ' codependent', ' belittled', ' attracted', ' attracted', ' singled out', ' attracted', ' angry', ' fearful', ' powerless', ' angry', ' alone', ' happy', ' happy', ' happy', ' happy', ' happy', ' sad', ' happy', ' happy', ' singled out', ' attracted', ' singled out', ' bored', ' apathetic', ' apathetic', ' happy', ' attached', ' happy', ' angry', ' alone', ' alone', ' lost', ' attached', ' sad', ' happy', ' sad', ' independent', ' angry', ' sad', ' fearful', ' happy', ' happy', ' fearful', ' alone', ' sad', ' sad', ' attracted', ' sad', ' attracted', ' codependent', ' fearful', ' powerless', ' obsessed', ' angry', ' sad', ' entitled', ' average', ' adequate', ' entitled', ' angry', ' happy', ' hated', ' powerless', ' fearful', ' lustful', ' apathetic', ' sad', ' safe', ' anxious', ' anxious', ' fearful', ' happy', ' happy', ' powerless', ' burdened', ' entitled', ' happy', ' angry', ' hated', ' fearful', ' apathetic', ' angry', ' happy', ' singled out', ' fearless', ' powerless', ' singled out', ' sad', ' alone', ' free', ' sad', ' hated', ' demoralized', ' angry', ' fearless', ' esteemed', ' adequate', ' fearful', ' esteemed', ' sad', ' sad', ' happy', ' happy', ' fearful', ' fearless', ' happy', ' fearful', ' sad', ' surprise', ' esteemed', ' anxious', ' attracted', ' sad', ' happy', ' happy', ' sad', ' happy', ' surprise', ' singled out', ' powerless', ' independent', ' sad', ' sad', ' angry', ' happy', ' surprise', ' anxious', ' codependent', ' anxious', ' fearful', ' fearful', ' happy', ' fearful', ' powerless', ' fearful', ' fearful', ' derailed', ' sad', ' sad', ' happy', ' happy', ' entitled', ' fearful', ' entitled', ' anxious', ' anxious', ' apathetic', ' attached', ' lost', ' hated', ' hated', ' apathetic', ' free', ' belittled', ' fearful', ' loved', ' esteemed', ' sad', ' cheated', ' angry', ' happy', ' powerless', ' anxious', ' powerless', ' loved', ' sad', ' sad', ' fearful', ' esteemed', ' angry', ' singled out', ' lustful', ' fearful', ' attracted', ' hated', ' singled out', ' attracted', ' powerless', ' loved', ' sad', ' angry', ' codependent', ' adequate', ' esteemed', ' attached', ' singled out', ' fearful', ' happy', ' alone', ' bored', ' apathetic', ' anxious', ' independent', ' embarrassed', ' surprise', ' fearful', ' fearless', ' free', ' average', ' attracted', ' lost', ' powerless', ' belittled', ' happy', ' burdened', ' sad', ' focused', ' attached', ' obsessed', ' fearless', ' happy', ' entitled', ' ecstatic', ' demoralized', ' derailed', ' attracted', ' sad', ' angry', ' fearful', ' belittled', ' sad', ' demoralized', ' powerless', ' sad', ' entitled', ' adequate', ' happy', ' fearful', ' sad', ' happy', ' sad', ' hated', ' fearless', ' angry', ' bored', ' angry', ' fearful', ' happy', ' attracted', ' singled out', ' singled out', ' happy', ' loved', ' attached', ' sad', ' lustful', ' cheated', ' sad', ' attracted', ' apathetic', ' powerless', ' happy', ' fearful', ' angry', ' sad', ' powerless', ' anxious', ' hated', ' sad', ' sad', ' esteemed', ' fearful', ' happy', ' entitled', ' fearful', ' anxious', ' belittled', ' sad', ' singled out']\n",
            "Counter({' sad': 69, ' happy': 63, ' fearful': 44, ' attracted': 31, ' angry': 31, ' powerless': 21, ' singled out': 16, ' fearless': 14, ' hated': 14, ' anxious': 14, ' attached': 13, ' entitled': 13, ' cheated': 12, ' belittled': 11, ' apathetic': 10, ' esteemed': 9, ' adequate': 9, ' loved': 8, ' alone': 8, ' lustful': 7, ' surprise': 6, ' demoralized': 6, ' bored': 5, ' independent': 5, ' codependent': 5, ' free': 5, ' derailed': 4, ' embarrassed': 3, ' average': 3, ' obsessed': 3, ' focused': 3, ' ecstatic': 3, ' lost': 3, ' safe': 2, ' burdened': 2})\n"
          ],
          "name": "stdout"
        }
      ]
    },
    {
      "cell_type": "code",
      "metadata": {
        "id": "-WunDOF__1dV",
        "colab_type": "code",
        "colab": {}
      },
      "source": [
        "# With the help of this We are able to find Keywords \n",
        "# we can later use NLP (NAtural LAnguage Processing to MAke prediction on the same that the REult is positive or negative )"
      ],
      "execution_count": null,
      "outputs": []
    },
    {
      "cell_type": "code",
      "metadata": {
        "id": "I_wUi0xn_1Yb",
        "colab_type": "code",
        "colab": {}
      },
      "source": [
        ""
      ],
      "execution_count": null,
      "outputs": []
    },
    {
      "cell_type": "code",
      "metadata": {
        "id": "ioDTt_Lb_1WH",
        "colab_type": "code",
        "colab": {}
      },
      "source": [
        ""
      ],
      "execution_count": null,
      "outputs": []
    }
  ]
}